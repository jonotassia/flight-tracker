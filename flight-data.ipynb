{
 "cells": [
  {
   "cell_type": "code",
   "execution_count": 8,
   "metadata": {},
   "outputs": [],
   "source": [
    "from amadeus_helpers import find_flights, clean_flights\n",
    "import pandas as pd\n",
    "import matplotlib"
   ]
  },
  {
   "cell_type": "code",
   "execution_count": 14,
   "metadata": {},
   "outputs": [],
   "source": [
    "# Define query parameters\n",
    "origin = \"SYD\"\n",
    "destination = \"LON\"\n",
    "num_adults = 2\n",
    "departure_range = pd.date_range(start=\"2023-03-17\",end=\"2023-03-24\")\n",
    "return_range = pd.date_range(start=\"2023-07-26\", end=\"2023-07-30\")\n",
    "\n"
   ]
  },
  {
   "cell_type": "code",
   "execution_count": 15,
   "metadata": {},
   "outputs": [
    {
     "data": {
      "text/plain": [
       "'2023-03-17'"
      ]
     },
     "execution_count": 15,
     "metadata": {},
     "output_type": "execute_result"
    }
   ],
   "source": [
    "# Verify data converts correctly\n",
    "departure_date = departure_range[0].strftime(\"%Y-%m-%d\")\n",
    "departure_date"
   ]
  },
  {
   "cell_type": "code",
   "execution_count": 21,
   "metadata": {},
   "outputs": [
    {
     "name": "stdout",
     "output_type": "stream",
     "text": [
      "Loading from file...\n",
      "Loading from file...\n",
      "Loading from file...\n",
      "Loading from file...\n",
      "Loading from file...\n",
      "Loading from file...\n",
      "Loading from file...\n",
      "Loading from file...\n",
      "Loading from file...\n",
      "Loading from file...\n",
      "Loading from file...\n",
      "Loading from file...\n",
      "Loading from file...\n",
      "Loading from file...\n",
      "Loading from file...\n",
      "Loading from file...\n",
      "Loading from file...\n",
      "Loading from file...\n",
      "Loading from file...\n",
      "Loading from file...\n",
      "Loading from file...\n",
      "Loading from file...\n",
      "Loading from file...\n",
      "Loading from file...\n",
      "Loading from file...\n",
      "Loading from file...\n",
      "Loading from file...\n",
      "Loading from file...\n",
      "Loading from file...\n",
      "Loading from file...\n",
      "Loading from file...\n",
      "Loading from file...\n",
      "Loading from file...\n",
      "Loading from file...\n",
      "Loading from file...\n",
      "Loading from file...\n",
      "Loading from file...\n",
      "Loading from file...\n",
      "Loading from file...\n",
      "Loading from file...\n"
     ]
    }
   ],
   "source": [
    "flights_df = pd.DataFrame(columns=[\"ID\", \"Airline\", \"Number of Stops\", \"Origin\", \"Destination\",\n",
    "                                       \"Departure\", \"Arrival\", \"Duration\", \"Baggage\", \"Price\", \"Currency\"])\n",
    "\n",
    "for departure_date in departure_range:\n",
    "    # Convert departure date to string\n",
    "    departure_date = departure_date.strftime(\"%Y-%m-%d\")\n",
    "\n",
    "    for return_date in return_range:\n",
    "        # Convert return date to string\n",
    "        return_date = return_date.strftime(\"%Y-%m-%d\")\n",
    "        \n",
    "        # Query database\n",
    "        flights = find_flights(origin, destination, departure_date, return_date, num_adults)\n",
    "\n",
    "        # Generate flights dataframe\n",
    "        flights_df = flights_df.append(clean_flights(flights))\n",
    "\n"
   ]
  },
  {
   "cell_type": "code",
   "execution_count": 22,
   "metadata": {},
   "outputs": [],
   "source": [
    "# Save to load in future if needed\n",
    "flights_df.to_csv(\"./data/output/JGT-search.csv\")"
   ]
  },
  {
   "cell_type": "code",
   "execution_count": 24,
   "metadata": {},
   "outputs": [],
   "source": [
    "# Convert price to float to prepare for plotting\n",
    "flights_df[\"Price\"] = flights_df[\"Price\"].astype(float)"
   ]
  },
  {
   "cell_type": "code",
   "execution_count": 25,
   "metadata": {},
   "outputs": [
    {
     "data": {
      "text/plain": [
       "<AxesSubplot:xlabel='Departure'>"
      ]
     },
     "execution_count": 25,
     "metadata": {},
     "output_type": "execute_result"
    },
    {
     "data": {
      "image/png": "[encoded data removed]",
      "text/plain": [
       "<Figure size 640x480 with 1 Axes>"
      ]
     },
     "metadata": {},
     "output_type": "display_data"
    }
   ],
   "source": [
    "# Take average of price per day, then plot\n",
    "flights_df.plot(x=\"Departure\", y=\"Price\", kind=\"bar\")"
   ]
  },
  {
   "cell_type": "code",
   "execution_count": null,
   "metadata": {},
   "outputs": [],
   "source": []
  }
 ],
 "metadata": {
  "kernelspec": {
   "display_name": "venv",
   "language": "python",
   "name": "python3"
  },
  "language_info": {
   "codemirror_mode": {
    "name": "ipython",
    "version": 3
   },
   "file_extension": ".py",
   "mimetype": "text/x-python",
   "name": "python",
   "nbconvert_exporter": "python",
   "pygments_lexer": "ipython3",
   "version": "3.7.0"
  },
  "orig_nbformat": 4,
  "vscode": {
   "interpreter": {
    "hash": "d4c9152dbc8a98de82414da0a1efcf6726bad386bd2c084c79840a2120dbddc5"
   }
  }
 },
 "nbformat": 4,
 "nbformat_minor": 2
}
